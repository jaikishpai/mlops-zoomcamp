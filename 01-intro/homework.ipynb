{
 "cells": [
  {
   "cell_type": "code",
   "execution_count": null,
   "id": "86d68d07",
   "metadata": {},
   "outputs": [],
   "source": [
    "import pandas as pd\n",
    "import numpy as np\n",
    "from sklearn.preprocessing import OneHotEncoder\n",
    "from sklearn.linear_model import LinearRegression\n",
    "from sklearn.metrics import mean_squared_error\n",
    "\n",
    "#!pip install pyarrow\n"
   ]
  },
  {
   "cell_type": "code",
   "execution_count": null,
   "id": "9b254bc3",
   "metadata": {},
   "outputs": [],
   "source": [
    "df_january2023 = pd.read_parquet(\"https://d37ci6vzurychx.cloudfront.net/trip-data/yellow_tripdata_2023-01.parquet\")\n",
    "df_january2023.head()"
   ]
  },
  {
   "cell_type": "code",
   "execution_count": null,
   "id": "f15ac0d7",
   "metadata": {},
   "outputs": [],
   "source": [
    "print(f'Q1.Number of columns:{df_january2023.shape[1]}')"
   ]
  },
  {
   "cell_type": "code",
   "execution_count": null,
   "id": "efa8f310",
   "metadata": {},
   "outputs": [],
   "source": [
    "df_february2023 = pd.read_parquet(\"https://d37ci6vzurychx.cloudfront.net/trip-data/yellow_tripdata_2023-02.parquet\")\n",
    "df_february2023.head()"
   ]
  },
  {
   "cell_type": "code",
   "execution_count": null,
   "id": "c2d8f851",
   "metadata": {},
   "outputs": [],
   "source": [
    "# function to calculate the total duration of the journey\n",
    "# function takes the dataframe as an argument and adds a column \"duration_in_minutes\" and returns the dataframe.\n",
    "\n",
    "def add_duration_in_minutes(df):\n",
    "    df['duration_in_minutes'] = (df['tpep_dropoff_datetime'] - df['tpep_pickup_datetime']).dt.total_seconds()/60\n",
    "    return df"
   ]
  },
  {
   "cell_type": "code",
   "execution_count": null,
   "id": "db0a2eda",
   "metadata": {
    "scrolled": false
   },
   "outputs": [],
   "source": [
    "df_february2023 = add_duration_in_minutes(df_february2023)\n",
    "# dataframe with the duration coloumn.\n",
    "df_february2023.head()"
   ]
  },
  {
   "cell_type": "code",
   "execution_count": null,
   "id": "209f6034",
   "metadata": {},
   "outputs": [],
   "source": [
    "df_january2023 = add_duration_in_minutes(df_january2023)\n",
    "# dataframe with the duration coloumn.\n",
    "df_january2023.head()"
   ]
  },
  {
   "cell_type": "code",
   "execution_count": null,
   "id": "f4f5f304",
   "metadata": {},
   "outputs": [],
   "source": [
    "std_trip_duration = df_january2023['duration_in_minutes'].std()\n",
    "print(f'Q2. Standard Deviation of trips duration January: {std_trip_duration}')"
   ]
  },
  {
   "cell_type": "code",
   "execution_count": null,
   "id": "7d7b04c7",
   "metadata": {},
   "outputs": [],
   "source": [
    "def remove_outliers(df):\n",
    "    total_records_before = len(df)\n",
    "    df_filtered = df[(df['duration_in_minutes'] >= 1) & (df['duration_in_minutes'] <= 60)]\n",
    "    total_records_after = len(df_filtered)\n",
    "    print(total_records_before, total_records_after)\n",
    "    fraction_remaining = total_records_after / total_records_before\n",
    "    return df_filtered, fraction_remaining\n",
    "    "
   ]
  },
  {
   "cell_type": "code",
   "execution_count": null,
   "id": "b9046b46",
   "metadata": {
    "scrolled": true
   },
   "outputs": [],
   "source": [
    "df_january2023_filtered, fraction_january2023 = remove_outliers(df_january2023)\n",
    "print('Filtered dataset for January 2023: ', df_january2023_filtered.head())\n",
    "print('Filtered percentage of data for January 2023: ', fraction_january2023*100)"
   ]
  },
  {
   "cell_type": "code",
   "execution_count": null,
   "id": "84b0cb31",
   "metadata": {},
   "outputs": [],
   "source": [
    "df_february2023_filtered, fraction_february2023 = remove_outliers(df_february2023)\n",
    "print('Filtered dataset for January 2023: ', df_february2023_filtered.head())\n",
    "print('Filtered percentage of data for January 2023: ', fraction_february2023*100)"
   ]
  },
  {
   "cell_type": "code",
   "execution_count": null,
   "id": "f90281aa",
   "metadata": {},
   "outputs": [],
   "source": [
    "def vectorise_location_onehot_encoding(df):\n",
    "    df.loc[:, 'PULocationID'] = df['PULocationID'].astype(str)\n",
    "    df.loc[:, 'DOLocationID'] = df['DOLocationID'].astype(str)\n",
    "    # Select only the PULocationID and DOLocationID columns\n",
    "    location_data = df[['PULocationID', 'DOLocationID']]\n",
    "\n",
    "    encoder = OneHotEncoder(sparse=True, dtype=int)        \n",
    "    encoded_locations = encoder.fit_transform(location_data)\n",
    "    sparse_df = pd.DataFrame.sparse.from_spmatrix(encoded_locations, columns=encoder.get_feature_names_out())\n",
    "    print(\"Feature Matrix (Sparse):\")\n",
    "    print(sparse_df.head())\n",
    "    print(\"\\nFeature Names:\")\n",
    "    print(encoder.get_feature_names_out())\n",
    "    return sparse_df"
   ]
  },
  {
   "cell_type": "code",
   "execution_count": null,
   "id": "028ee6fc",
   "metadata": {},
   "outputs": [],
   "source": [
    "df_january2023_encoded = vectorise_location_onehot_encoding(df_january2023_filtered)\n",
    "df_january2023_encoded.head()"
   ]
  },
  {
   "cell_type": "code",
   "execution_count": null,
   "id": "2db5d4cc",
   "metadata": {},
   "outputs": [],
   "source": [
    "def train_and_evaluate_model(feature_df, target_df):\n",
    "    model = LinearRegression()\n",
    "    model.fit(feature_df, target_df)\n",
    "    target_prediction_train = model.predict(feature_df)\n",
    "    rmse= np.sqrt(mean_squared_error(target_df, target_prediction_train))\n",
    "    return model, rmse"
   ]
  },
  {
   "cell_type": "code",
   "execution_count": null,
   "id": "413e3a59",
   "metadata": {},
   "outputs": [],
   "source": [
    "target_january2023 = df_january2023_filtered[\"duration_in_minutes\"]\n",
    "model, rmse = train_and_evaluate_model(df_january2023_encoded, target_january2023)\n",
    "print(f'RMSE of the model on the training data: {rmse}')"
   ]
  },
  {
   "cell_type": "code",
   "execution_count": null,
   "id": "68e6e502",
   "metadata": {
    "scrolled": false
   },
   "outputs": [],
   "source": [
    "df_february2023_encoded = vectorise_location_onehot_encoding(df_february2023_filtered)\n",
    "df_february2023_encoded.head()"
   ]
  },
  {
   "cell_type": "code",
   "execution_count": null,
   "id": "9cf8a6cf",
   "metadata": {},
   "outputs": [],
   "source": [
    "target_february_2023 = df_february2023_filtered[\"duration_in_minutes\"]\n",
    "model, rmse = train_and_evaluate_model(df_february2023_encoded, target_february_2023)\n",
    "print(f'RMSE of the model on the training data: {rmse}')"
   ]
  }
 ],
 "metadata": {
  "kernelspec": {
   "display_name": "Python 3 (ipykernel)",
   "language": "python",
   "name": "python3"
  },
  "language_info": {
   "codemirror_mode": {
    "name": "ipython",
    "version": 3
   },
   "file_extension": ".py",
   "mimetype": "text/x-python",
   "name": "python",
   "nbconvert_exporter": "python",
   "pygments_lexer": "ipython3",
   "version": "3.9.12"
  }
 },
 "nbformat": 4,
 "nbformat_minor": 5
}
